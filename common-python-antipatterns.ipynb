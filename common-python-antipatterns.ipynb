{
 "cells": [
  {
   "cell_type": "markdown",
   "id": "5e94f51c-1b57-40dd-9199-69d9ca149537",
   "metadata": {},
   "source": [
    "## Common Code Anti-Patterns for Python"
   ]
  },
  {
   "cell_type": "markdown",
   "id": "07f6b3a5-dc76-4398-a090-9a85ee5ebbca",
   "metadata": {},
   "source": [
    "Anti-patterns are certain patterns in software development that are considered bad programming practices.\n",
    "\n",
    "As opposed to design patterns which are common approaches to common problems that have been formalized and are generally considered a good development practice, anti-patterns are the opposite and are undesirable.\n",
    "\n",
    "Anti-patterns make code difficult to read, hard to maintain, slow, over-engineered, unstable, prone to errors and with potential security issues.\n",
    "\n",
    "Introducing anti-patterns happens for many reasons:\n",
    "\n",
    "- absence of code review\n",
    "- a willingness to try out “cool” stuff when simple things might do the trick\n",
    "- not using the right tools (code linters and formatters to follow PEP8 conventions, docstrings generators, IDEs that support auto-completion, to name a few)\n",
    "- or simply not knowing a better alternative, which is fine as long as you learn and grow\n",
    "\n",
    "Anti-patterns can be spread into one or many of these categories:\n",
    "\n",
    "- Correctness: Anti-patterns that will literally break your code or make it do the wrong things.\n",
    " \n",
    "- Maintainability: Anti-patterns that will make your code hard to maintain or extend. \n",
    "- Readability: Anti-patterns that will make your code hard to read or understand. \n",
    "- Performance: Anti-patterns that will unnecessarily slow your code down.\n",
    "- Security: Anti-patterns that will pose a security risk to your program"
   ]
  },
  {
   "cell_type": "markdown",
   "id": "d7440152-c90a-4d5e-aea1-55f31341e9d0",
   "metadata": {},
   "source": [
    "### 1 — Using non-explicit variable name"
   ]
  },
  {
   "cell_type": "code",
   "execution_count": 1,
   "id": "c0639959-0c6a-496b-9112-4238f38c75b3",
   "metadata": {},
   "outputs": [
    {
     "ename": "NameError",
     "evalue": "name 'pd' is not defined",
     "output_type": "error",
     "traceback": [
      "\u001b[1;31m---------------------------------------------------------------------------\u001b[0m",
      "\u001b[1;31mNameError\u001b[0m                                 Traceback (most recent call last)",
      "\u001b[1;32m~\\AppData\\Local\\Temp/ipykernel_12704/3496714341.py\u001b[0m in \u001b[0;36m<module>\u001b[1;34m\u001b[0m\n\u001b[0;32m      1\u001b[0m \u001b[1;31m# bad practice\u001b[0m\u001b[1;33m\u001b[0m\u001b[1;33m\u001b[0m\u001b[0m\n\u001b[0;32m      2\u001b[0m \u001b[1;33m\u001b[0m\u001b[0m\n\u001b[1;32m----> 3\u001b[1;33m \u001b[0mdf\u001b[0m \u001b[1;33m=\u001b[0m \u001b[0mpd\u001b[0m\u001b[1;33m.\u001b[0m\u001b[0mread_csv\u001b[0m\u001b[1;33m(\u001b[0m\u001b[1;34m\"./customer_reviews.csv\"\u001b[0m\u001b[1;33m)\u001b[0m\u001b[1;33m\u001b[0m\u001b[1;33m\u001b[0m\u001b[0m\n\u001b[0m\u001b[0;32m      4\u001b[0m \u001b[0mx\u001b[0m \u001b[1;33m=\u001b[0m \u001b[0mdf\u001b[0m\u001b[1;33m.\u001b[0m\u001b[0mgroupby\u001b[0m\u001b[1;33m(\u001b[0m\u001b[1;34m\"country\"\u001b[0m\u001b[1;33m)\u001b[0m\u001b[1;33m.\u001b[0m\u001b[0magg\u001b[0m\u001b[1;33m(\u001b[0m\u001b[1;33m{\u001b[0m\u001b[1;34m\"satisfaction_score\"\u001b[0m\u001b[1;33m:\u001b[0m \u001b[1;34m\"mean\"\u001b[0m\u001b[1;33m}\u001b[0m\u001b[1;33m)\u001b[0m\u001b[1;33m\u001b[0m\u001b[1;33m\u001b[0m\u001b[0m\n\u001b[0;32m      5\u001b[0m \u001b[1;33m\u001b[0m\u001b[0m\n",
      "\u001b[1;31mNameError\u001b[0m: name 'pd' is not defined"
     ]
    }
   ],
   "source": [
    "# bad practice\n",
    "\n",
    "df = pd.read_csv(\"./customer_reviews.csv\")\n",
    "x = df.groupby(\"country\").agg({\"satisfaction_score\": \"mean\"})\n",
    "\n",
    "# good practice\n",
    "\n",
    "customer_data = pd.read_csv(\"./customer_reviews.csv\")\n",
    "average_satisfaction_per_country = customer_data.groupby(\"country\").agg({\"satisfaction_score\": \"mean\"})\n",
    "\n",
    "# bad practice\n",
    "\n",
    "x = data[[\"f1\", \"f2\", \"f3\"]]\n",
    "y = data[\"target\"]\n",
    "\n",
    "# good practice\n",
    "\n",
    "features = data[[\"f1\", \"f2\", \"f3\"]]\n",
    "target = data[\"target\"]"
   ]
  },
  {
   "cell_type": "markdown",
   "id": "3cc0be9b-6f39-4ab6-a29e-c704a1551a78",
   "metadata": {},
   "source": [
    "### 2 — Ignoring comments"
   ]
  },
  {
   "cell_type": "markdown",
   "id": "9221c3b4-d86a-417a-b48d-ec1621a6f44b",
   "metadata": {},
   "source": [
    "Undocumented code is a nightmare. These are the people who may complain about it:\n",
    "\n",
    "you in 6 months when you’ll forget why you wrote that line of code\n",
    "any colleague of yours who’ll take over the project\n",
    "Code should always be clear in what it’s doing and comments should clarify why you are doing it. At the same time, be concise when you comment your code. When your code is self-explanatory, comments are not needed."
   ]
  },
  {
   "cell_type": "code",
   "execution_count": null,
   "id": "dbfce101-53f1-43c2-8a54-858a8e9122fb",
   "metadata": {},
   "outputs": [],
   "source": []
  }
 ],
 "metadata": {
  "kernelspec": {
   "display_name": "Python 3 (ipykernel)",
   "language": "python",
   "name": "python3"
  },
  "language_info": {
   "codemirror_mode": {
    "name": "ipython",
    "version": 3
   },
   "file_extension": ".py",
   "mimetype": "text/x-python",
   "name": "python",
   "nbconvert_exporter": "python",
   "pygments_lexer": "ipython3",
   "version": "3.9.7"
  }
 },
 "nbformat": 4,
 "nbformat_minor": 5
}
